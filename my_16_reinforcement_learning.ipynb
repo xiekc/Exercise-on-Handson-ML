{
 "cells": [
  {
   "cell_type": "code",
   "execution_count": 1,
   "metadata": {},
   "outputs": [
    {
     "name": "stderr",
     "output_type": "stream",
     "text": [
      "D:\\Anaconda3\\lib\\site-packages\\h5py\\__init__.py:36: FutureWarning: Conversion of the second argument of issubdtype from `float` to `np.floating` is deprecated. In future, it will be treated as `np.float64 == np.dtype(float).type`.\n",
      "  from ._conv import register_converters as _register_converters\n"
     ]
    }
   ],
   "source": [
    "import gym\n",
    "import tensorflow as tf\n",
    "import numpy as np\n",
    "import matplotlib.pyplot as plt"
   ]
  },
  {
   "cell_type": "code",
   "execution_count": 2,
   "metadata": {},
   "outputs": [
    {
     "name": "stdout",
     "output_type": "stream",
     "text": [
      "\u001b[33mWARN: gym.spaces.Box autodetected dtype as <class 'numpy.float32'>. Please provide explicit dtype.\u001b[0m\n"
     ]
    },
    {
     "data": {
      "text/plain": [
       "array([-0.03498204,  0.0493593 , -0.02351852,  0.01932415])"
      ]
     },
     "execution_count": 2,
     "metadata": {},
     "output_type": "execute_result"
    }
   ],
   "source": [
    "env=gym.make('CartPole-v0')\n",
    "obs=env.reset()\n",
    "obs"
   ]
  },
  {
   "cell_type": "code",
   "execution_count": 3,
   "metadata": {},
   "outputs": [
    {
     "data": {
      "image/png": "[encoded data removed]",
      "text/plain": [
       "<matplotlib.figure.Figure at 0x1a7b1afd9b0>"
      ]
     },
     "metadata": {},
     "output_type": "display_data"
    }
   ],
   "source": [
    "'''%matplotlib inline\n",
    "plt.imshow(env.render(mode=\"rgb_array\"))\n",
    "plt.show()\n",
    "env.close()\n",
    "'''"
   ]
  },
  {
   "cell_type": "markdown",
   "metadata": {},
   "source": [
    "# Policy Gradients"
   ]
  },
  {
   "cell_type": "code",
   "execution_count": null,
   "metadata": {},
   "outputs": [],
   "source": []
  },
  {
   "cell_type": "markdown",
   "metadata": {},
   "source": [
    "# Q-Value"
   ]
  },
  {
   "cell_type": "code",
   "execution_count": 3,
   "metadata": {},
   "outputs": [],
   "source": [
    "import numpy as np\n",
    "nan=np.nan\n",
    "transition_probabilities = np.array([\n",
    "        [[0.7, 0.3, 0.0], [1.0, 0.0, 0.0], [0.8, 0.2, 0.0]], # in s0, if action a0 then proba 0.7 to state s0 and 0.3 to state s1, etc.\n",
    "        [[0.0, 1.0, 0.0], [nan,nan,nan], [0.0, 0.0, 1.0]],\n",
    "        [[nan,nan,nan], [0.8, 0.1, 0.1], [nan,nan,nan]],\n",
    "    ])\n",
    "\n",
    "rewards = np.array([\n",
    "        [[+10, 0, 0], [0, 0, 0], [0, 0, 0]],\n",
    "        [[0, 0, 0], [0, 0, 0], [0, 0, -50]],\n",
    "        [[0, 0, 0], [+40, 0, 0], [0, 0, 0]],\n",
    "    ])\n",
    "\n",
    "possible_actions = [[0, 1, 2], [0, 2], [1]]\n"
   ]
  },
  {
   "cell_type": "code",
   "execution_count": 21,
   "metadata": {},
   "outputs": [
    {
     "name": "stdout",
     "output_type": "stream",
     "text": [
      "[[  7.   0.   0.]\n",
      " [  0. -inf -50.]\n",
      " [-inf  32. -inf]] \n",
      "\n",
      "[[21.88710061 20.79213811 16.85544644]\n",
      " [ 1.10867978        -inf  1.1676708 ]\n",
      " [       -inf 53.86134555        -inf]] \n",
      "\n",
      "[[21.89917812 20.80421562 16.86752395]\n",
      " [ 1.12075729        -inf  1.1797483 ]\n",
      " [       -inf 53.87342305        -inf]] \n",
      "\n",
      "[[21.89924963 20.80428712 16.86759546]\n",
      " [ 1.1208288         -inf  1.17981981]\n",
      " [       -inf 53.87349456        -inf]] \n",
      "\n",
      "[[21.89925005 20.80428755 16.86759588]\n",
      " [ 1.12082922        -inf  1.17982023]\n",
      " [       -inf 53.87349498        -inf]] \n",
      "\n",
      "[[21.89925005 20.80428755 16.86759588]\n",
      " [ 1.12082922        -inf  1.17982024]\n",
      " [       -inf 53.87349498        -inf]] \n",
      "\n",
      "[[21.89925005 20.80428755 16.86759588]\n",
      " [ 1.12082922        -inf  1.17982024]\n",
      " [       -inf 53.87349498        -inf]] \n",
      "\n",
      "[[21.89925005 20.80428755 16.86759588]\n",
      " [ 1.12082922        -inf  1.17982024]\n",
      " [       -inf 53.87349498        -inf]] \n",
      "\n",
      "[[21.89925005 20.80428755 16.86759588]\n",
      " [ 1.12082922        -inf  1.17982024]\n",
      " [       -inf 53.87349498        -inf]] \n",
      "\n",
      "[[21.89925005 20.80428755 16.86759588]\n",
      " [ 1.12082922        -inf  1.17982024]\n",
      " [       -inf 53.87349498        -inf]] \n",
      "\n",
      "[[21.89925005 20.80428755 16.86759588]\n",
      " [ 1.12082922        -inf  1.17982024]\n",
      " [       -inf 53.87349498        -inf]] \n",
      "\n"
     ]
    }
   ],
   "source": [
    "Q=np.full((3,3),-np.inf)\n",
    "for state,actions in enumerate(possible_actions):\n",
    "    Q[state,actions]=0.0\n",
    "\n",
    "learning_rate=0.01\n",
    "discount_rate=0.95\n",
    "n_iterations=1000\n",
    "\n",
    "for iteration in range(n_iterations+1):\n",
    "    Q_prev=Q.copy()\n",
    "    for s in range(3):\n",
    "        for a in possible_actions[s]:\n",
    "            Q[s,a]=np.sum(transition_probabilities[s,a,s_next]*\n",
    "                          (rewards[s,a,s_next]+discount_rate*np.max(Q_prev[s_next]))\n",
    "                         for s_next in range(3))\n",
    "    if iteration %100==0:\n",
    "        print(Q,'\\n')"
   ]
  },
  {
   "cell_type": "markdown",
   "metadata": {},
   "source": [
    "# Q-Learning"
   ]
  },
  {
   "cell_type": "code",
   "execution_count": 11,
   "metadata": {},
   "outputs": [
    {
     "name": "stdout",
     "output_type": "stream",
     "text": [
      "[[  1.   0.   0.]\n",
      " [  0. -inf   0.]\n",
      " [-inf   0. -inf]] \n",
      "\n",
      "[[23.95224821 25.06446187 22.87387251]\n",
      " [ 2.41784968        -inf  0.52625429]\n",
      " [       -inf 55.76234379        -inf]] \n",
      "\n",
      "[[22.97539056 22.61065119 17.43514626]\n",
      " [ 3.66420779        -inf  3.95053287]\n",
      " [       -inf 58.09456344        -inf]] \n",
      "\n",
      "[[23.64306968 22.65724256 18.70349411]\n",
      " [ 3.75620381        -inf  4.00561128]\n",
      " [       -inf 55.9608726         -inf]] \n",
      "\n",
      "[[23.77017801 22.64657893 18.70598609]\n",
      " [ 3.75740623        -inf  3.97788796]\n",
      " [       -inf 56.06844924        -inf]] \n",
      "\n",
      "[[23.7696086  22.64649662 18.70317721]\n",
      " [ 3.75743133        -inf  3.97706121]\n",
      " [       -inf 56.0647402         -inf]] \n",
      "\n"
     ]
    }
   ],
   "source": [
    "import numpy as np\n",
    "\n",
    "discount_rate=0.95\n",
    "learning_rate=0.1\n",
    "learning_rate_decay=1e-6\n",
    "n_iterations=5000\n",
    "\n",
    "Q=np.full((3,3),-np.inf)\n",
    "for state,actions in enumerate(possible_actions):\n",
    "    Q[state,actions]=0.0\n",
    "\n",
    "s=0\n",
    "\n",
    "for iteration in range(n_iterations+1):\n",
    "    a=np.random.choice(possible_actions[s])\n",
    "    s_next=np.random.choice(range(3),p=transition_probabilities[s,a])\n",
    "    learning_rate=learning_rate/(1+iteration*learning_rate_decay)\n",
    "    Q[s,a]=(1-learning_rate)*Q[s,a]+learning_rate*(rewards[s,a,s_next]+discount_rate*np.max(Q[s_next]))\n",
    "    s=s_next\n",
    "    \n",
    "    if iteration %1000==0:\n",
    "        print(Q,'\\n')"
   ]
  },
  {
   "cell_type": "code",
   "execution_count": null,
   "metadata": {},
   "outputs": [],
   "source": []
  }
 ],
 "metadata": {
  "kernelspec": {
   "display_name": "Python 3",
   "language": "python",
   "name": "python3"
  }
 },
 "nbformat": 4,
 "nbformat_minor": 2
}
