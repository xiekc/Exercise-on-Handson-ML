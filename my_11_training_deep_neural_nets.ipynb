{
 "cells": [
  {
   "cell_type": "code",
   "execution_count": 5,
   "metadata": {},
   "outputs": [],
   "source": [
    "import tensorflow as tf\n",
    "import numpy as np"
   ]
  },
  {
   "cell_type": "markdown",
   "metadata": {},
   "source": [
    "# ELU Activation Function"
   ]
  },
  {
   "cell_type": "code",
   "execution_count": 44,
   "metadata": {},
   "outputs": [
    {
     "name": "stdout",
     "output_type": "stream",
     "text": [
      "WARNING:tensorflow:From <ipython-input-44-76f44b0bcf8f>:2: read_data_sets (from tensorflow.contrib.learn.python.learn.datasets.mnist) is deprecated and will be removed in a future version.\n",
      "Instructions for updating:\n",
      "Please use alternatives such as official/mnist/dataset.py from tensorflow/models.\n",
      "WARNING:tensorflow:From D:\\Anaconda3\\lib\\site-packages\\tensorflow\\contrib\\learn\\python\\learn\\datasets\\mnist.py:260: maybe_download (from tensorflow.contrib.learn.python.learn.datasets.base) is deprecated and will be removed in a future version.\n",
      "Instructions for updating:\n",
      "Please write your own downloading logic.\n",
      "WARNING:tensorflow:From D:\\Anaconda3\\lib\\site-packages\\tensorflow\\contrib\\learn\\python\\learn\\datasets\\mnist.py:262: extract_images (from tensorflow.contrib.learn.python.learn.datasets.mnist) is deprecated and will be removed in a future version.\n",
      "Instructions for updating:\n",
      "Please use tf.data to implement this functionality.\n",
      "Extracting ./my_datasets_mnist/train-images-idx3-ubyte.gz\n",
      "WARNING:tensorflow:From D:\\Anaconda3\\lib\\site-packages\\tensorflow\\contrib\\learn\\python\\learn\\datasets\\mnist.py:267: extract_labels (from tensorflow.contrib.learn.python.learn.datasets.mnist) is deprecated and will be removed in a future version.\n",
      "Instructions for updating:\n",
      "Please use tf.data to implement this functionality.\n",
      "Extracting ./my_datasets_mnist/train-labels-idx1-ubyte.gz\n",
      "Extracting ./my_datasets_mnist/t10k-images-idx3-ubyte.gz\n",
      "Extracting ./my_datasets_mnist/t10k-labels-idx1-ubyte.gz\n",
      "WARNING:tensorflow:From D:\\Anaconda3\\lib\\site-packages\\tensorflow\\contrib\\learn\\python\\learn\\datasets\\mnist.py:290: DataSet.__init__ (from tensorflow.contrib.learn.python.learn.datasets.mnist) is deprecated and will be removed in a future version.\n",
      "Instructions for updating:\n",
      "Please use alternatives such as official/mnist/dataset.py from tensorflow/models.\n"
     ]
    }
   ],
   "source": [
    "from tensorflow.examples.tutorials.mnist import input_data\n",
    "mnist =input_data.read_data_sets('./my_datasets_mnist/')"
   ]
  },
  {
   "cell_type": "code",
   "execution_count": 45,
   "metadata": {},
   "outputs": [],
   "source": [
    "n_inputs=28*28\n",
    "n_hidden1=300\n",
    "n_hidden2=100\n",
    "n_hidden3=30\n",
    "n_outputs=10"
   ]
  },
  {
   "cell_type": "code",
   "execution_count": 46,
   "metadata": {},
   "outputs": [],
   "source": [
    "X=tf.placeholder(tf.float32,shape=(None,n_inputs),name='X')\n",
    "y=tf.placeholder(tf.int64,shape=(None),name='y')"
   ]
  },
  {
   "cell_type": "code",
   "execution_count": 47,
   "metadata": {},
   "outputs": [],
   "source": [
    "#from tensorflow.contrib.layers import tf.layers.dense\n",
    "with tf.name_scope('dnn'):\n",
    "    hidden1=tf.layers.dense(X,n_hidden1,activation=tf.nn.elu)\n",
    "    hidden2=tf.layers.dense(hidden1,n_hidden2,activation=tf.nn.elu)\n",
    "    hidden3=tf.layers.dense(hidden2,n_hidden3,activation=tf.nn.elu)\n",
    "    logits=tf.layers.dense(hidden3,n_outputs)"
   ]
  },
  {
   "cell_type": "code",
   "execution_count": 48,
   "metadata": {},
   "outputs": [],
   "source": [
    "with tf.name_scope('loss'):\n",
    "    X_entropy=tf.nn.sparse_softmax_cross_entropy_with_logits(labels=y,logits=logits)\n",
    "    loss=tf.reduce_mean(X_entropy,name='loss')"
   ]
  },
  {
   "cell_type": "code",
   "execution_count": 54,
   "metadata": {},
   "outputs": [],
   "source": [
    "learning_rate=0.01\n",
    "with tf.name_scope('train'):\n",
    "    optimizer=tf.train.GradientDescentOptimizer(learning_rate)\n",
    "    training_op=optimizer.minimize(loss)"
   ]
  },
  {
   "cell_type": "code",
   "execution_count": 55,
   "metadata": {},
   "outputs": [],
   "source": [
    "with tf.name_scope('eval'):\n",
    "    correct=tf.equal(tf.argmax(logits,axis=1),y)\n",
    "    accuracy=tf.reduce_mean(tf.cast(correct,tf.float32))"
   ]
  },
  {
   "cell_type": "code",
   "execution_count": 56,
   "metadata": {},
   "outputs": [],
   "source": [
    "init=tf.global_variables_initializer()\n",
    "saver=tf.train.Saver()"
   ]
  },
  {
   "cell_type": "code",
   "execution_count": 57,
   "metadata": {},
   "outputs": [],
   "source": [
    "n_epochs=30\n",
    "batch_size=100"
   ]
  },
  {
   "cell_type": "code",
   "execution_count": 58,
   "metadata": {},
   "outputs": [
    {
     "name": "stdout",
     "output_type": "stream",
     "text": [
      "0 Train acc: 0.86 Test acc: 0.8754\n",
      "1 Train acc: 0.84 Test acc: 0.9037\n",
      "2 Train acc: 0.88 Test acc: 0.9155\n",
      "3 Train acc: 0.93 Test acc: 0.9205\n",
      "4 Train acc: 0.92 Test acc: 0.9263\n",
      "5 Train acc: 0.98 Test acc: 0.9291\n",
      "6 Train acc: 0.96 Test acc: 0.9307\n",
      "7 Train acc: 0.99 Test acc: 0.9356\n",
      "8 Train acc: 0.95 Test acc: 0.9372\n",
      "9 Train acc: 0.94 Test acc: 0.9408\n",
      "10 Train acc: 0.95 Test acc: 0.9428\n",
      "11 Train acc: 0.94 Test acc: 0.9437\n",
      "12 Train acc: 0.9 Test acc: 0.9449\n",
      "13 Train acc: 0.97 Test acc: 0.9473\n",
      "14 Train acc: 0.98 Test acc: 0.9476\n",
      "15 Train acc: 0.95 Test acc: 0.95\n",
      "16 Train acc: 0.92 Test acc: 0.9512\n",
      "17 Train acc: 0.95 Test acc: 0.9524\n",
      "18 Train acc: 0.95 Test acc: 0.9544\n",
      "19 Train acc: 0.94 Test acc: 0.9546\n",
      "20 Train acc: 0.98 Test acc: 0.9554\n",
      "21 Train acc: 0.99 Test acc: 0.9578\n",
      "22 Train acc: 0.94 Test acc: 0.9574\n",
      "23 Train acc: 0.97 Test acc: 0.9593\n",
      "24 Train acc: 0.96 Test acc: 0.9594\n",
      "25 Train acc: 0.93 Test acc: 0.9603\n",
      "26 Train acc: 0.98 Test acc: 0.9604\n",
      "27 Train acc: 0.97 Test acc: 0.9622\n",
      "28 Train acc: 0.94 Test acc: 0.9627\n",
      "29 Train acc: 0.97 Test acc: 0.9635\n"
     ]
    }
   ],
   "source": [
    "with tf.Session() as sess:\n",
    "    init.run()\n",
    "    for epoch in range(n_epochs):\n",
    "        for iteration in range(mnist.train.num_examples//batch_size):\n",
    "            X_batch,y_batch=mnist.train.next_batch(batch_size)\n",
    "            training_op.run(feed_dict={X:X_batch,y:y_batch})\n",
    "        acc_train=accuracy.eval(feed_dict={X:X_batch,y:y_batch})\n",
    "        acc_test=accuracy.eval(feed_dict={X:mnist.test.images,\n",
    "                                         y:mnist.test.labels})\n",
    "        print(epoch,'Train acc:',acc_train,'Test acc:',acc_test)\n",
    "    save_path = saver.save(sess, \"./saved_models/dnn_with_elu_on_mnist.ckpt\")"
   ]
  },
  {
   "cell_type": "markdown",
   "metadata": {},
   "source": [
    "# Batch Normalization"
   ]
  },
  {
   "cell_type": "code",
   "execution_count": 1,
   "metadata": {},
   "outputs": [
    {
     "name": "stderr",
     "output_type": "stream",
     "text": [
      "D:\\Anaconda3\\lib\\site-packages\\h5py\\__init__.py:36: FutureWarning: Conversion of the second argument of issubdtype from `float` to `np.floating` is deprecated. In future, it will be treated as `np.float64 == np.dtype(float).type`.\n",
      "  from ._conv import register_converters as _register_converters\n"
     ]
    }
   ],
   "source": [
    "import tensorflow as tf\n",
    "import numpy as np"
   ]
  },
  {
   "cell_type": "code",
   "execution_count": 2,
   "metadata": {},
   "outputs": [],
   "source": [
    "def reset_graph(seed=42):\n",
    "    tf.reset_default_graph()\n",
    "    tf.set_random_seed(seed)\n",
    "    np.random.seed(seed)\n"
   ]
  },
  {
   "cell_type": "markdown",
   "metadata": {},
   "source": [
    "## partial"
   ]
  },
  {
   "cell_type": "markdown",
   "metadata": {},
   "source": [
    "For programs written in a functional style, you’ll sometimes want to construct variants of existing functions that have some of the parameters filled in. Consider a Python function f(a, b, c); you could create a new function g(b, c) that was equivalent to f(1, b, c)"
   ]
  },
  {
   "cell_type": "code",
   "execution_count": 10,
   "metadata": {},
   "outputs": [
    {
     "name": "stdout",
     "output_type": "stream",
     "text": [
      "5\n"
     ]
    }
   ],
   "source": [
    "import functools\n",
    "def f(a,b,c):\n",
    "    print(a+b+c)\n",
    "    \n",
    "g=functools.partial(f,a=1)\n",
    "g(b=2,c=2)"
   ]
  },
  {
   "cell_type": "code",
   "execution_count": 5,
   "metadata": {},
   "outputs": [
    {
     "name": "stdout",
     "output_type": "stream",
     "text": [
      "server: Unable to open socket\n"
     ]
    }
   ],
   "source": [
    "import functools\n",
    "\n",
    "def log (message, subsystem):\n",
    "    \"Write the contents of 'message' to the specified subsystem.\"\n",
    "    print('%s: %s' % (subsystem, message))\n",
    "    \n",
    "\n",
    "server_log = functools.partial(log, subsystem='server')\n",
    "server_log('Unable to open socket')"
   ]
  },
  {
   "cell_type": "markdown",
   "metadata": {},
   "source": [
    "## MNIST"
   ]
  },
  {
   "cell_type": "code",
   "execution_count": 3,
   "metadata": {},
   "outputs": [],
   "source": [
    "def shuffle_batch(X, y, batch_size):\n",
    "    rnd_idx = np.random.permutation(len(X))\n",
    "    n_batches = len(X) // batch_size\n",
    "    for batch_idx in np.array_split(rnd_idx, n_batches):\n",
    "        X_batch, y_batch = X[batch_idx], y[batch_idx]\n",
    "        yield X_batch, y_batch"
   ]
  },
  {
   "cell_type": "code",
   "execution_count": 30,
   "metadata": {},
   "outputs": [],
   "source": [
    "def generate_batch(X, labels, batch_size):\n",
    "    rnd_indices=np.random.randint(0,len(X),batch_size)\n",
    "    return X[rnd_indices], labels[rnd_indices]"
   ]
  },
  {
   "cell_type": "code",
   "execution_count": 42,
   "metadata": {},
   "outputs": [
    {
     "name": "stdout",
     "output_type": "stream",
     "text": [
      "0 Test accuracy: 0.9574\n",
      "1 Test accuracy: 0.9648\n",
      "2 Test accuracy: 0.9684\n",
      "3 Test accuracy: 0.9736\n",
      "4 Test accuracy: 0.9744\n",
      "5 Test accuracy: 0.9744\n",
      "6 Test accuracy: 0.9734\n",
      "7 Test accuracy: 0.9786\n",
      "8 Test accuracy: 0.9779\n",
      "9 Test accuracy: 0.9746\n",
      "10 Test accuracy: 0.9778\n",
      "11 Test accuracy: 0.9807\n",
      "12 Test accuracy: 0.9797\n",
      "13 Test accuracy: 0.9801\n",
      "14 Test accuracy: 0.9769\n",
      "15 Test accuracy: 0.9806\n",
      "16 Test accuracy: 0.9797\n",
      "17 Test accuracy: 0.9794\n",
      "18 Test accuracy: 0.9787\n",
      "19 Test accuracy: 0.9747\n"
     ]
    }
   ],
   "source": [
    "from functools import partial\n",
    "\n",
    "#tf.reset_default_graph()\n",
    "reset_graph()\n",
    "\n",
    "mnist = tf.keras.datasets.mnist\n",
    "(X_train, y_train),(X_test, y_test) = mnist.load_data()\n",
    "X_train, X_test = X_train.reshape(-1,28*28) / 255.0, X_test.reshape(-1,28*28) / 255.0\n",
    "\n",
    "batch_norm_momentum=0.9\n",
    "n_inputs=28*28\n",
    "n_hidden1=300\n",
    "n_hidden2=100\n",
    "n_hidden3=30\n",
    "n_outputs=10\n",
    "\n",
    "X=tf.placeholder(tf.float32,(None,n_inputs),'X')\n",
    "y=tf.placeholder(tf.int32,(None),'y')\n",
    "training=tf.placeholder_with_default(False,(),'training')\n",
    "\n",
    "with tf.name_scope('dnn'):\n",
    "    he_init=tf.variance_scaling_initializer()\n",
    "\n",
    "    my_batch_norm_layer=partial(\n",
    "        tf.layers.batch_normalization,\n",
    "        training=training,\n",
    "        momentum=batch_norm_momentum)\n",
    "\n",
    "    my_dense_layer=partial(\n",
    "        tf.layers.dense,\n",
    "        kernel_initializer=he_init)\n",
    "    \n",
    "    hidden1=my_dense_layer(X,n_hidden1,name='hidden1')#no activation function\n",
    "    #activation: Set it to None to maintain a linear activation.\n",
    "    bn1=tf.nn.elu(my_batch_norm_layer(hidden1))\n",
    "    hidden2=my_dense_layer(bn1,n_hidden2,name='hidden2')\n",
    "    bn2=tf.nn.elu(my_batch_norm_layer(hidden2))\n",
    "#    hidden3=my_dense_layer(bn2,n_hidden3,name='hidden3')\n",
    "#    bn3=tf.nn.elu(my_batch_norm_layer(hidden3))\n",
    "    logits_before=my_dense_layer(bn2,n_outputs,name='outputs')\n",
    "    logits=my_batch_norm_layer(logits_before)\n",
    "    \n",
    "with tf.name_scope('loss'):\n",
    "    X_entropy=tf.nn.sparse_softmax_cross_entropy_with_logits(labels=y,logits=logits)\n",
    "    loss=tf.reduce_mean(X_entropy,name='loss')\n",
    "\n",
    "learning_rate=0.01\n",
    "with tf.name_scope('train'):\n",
    "    optimizer=tf.train.AdamOptimizer(learning_rate=learning_rate)\n",
    "    training_op=optimizer.minimize(loss)\n",
    "\n",
    "with tf.name_scope('eval'):\n",
    "    correct = tf.nn.in_top_k(logits, y, 1)\n",
    "    accuracy = tf.reduce_mean(tf.cast(correct, tf.float32))\n",
    "   # correct=tf.equal(y,tf.argmax(logits,axis=1))\n",
    "   # accuracy=tf.reduce_mean(tf.cast(correct,tf.float32))\n",
    "\n",
    "init=tf.global_variables_initializer()\n",
    "saver=tf.train.Saver()\n",
    "\n",
    "epochs=20\n",
    "batch_size=50\n",
    "with tf.Session() as sess:\n",
    "    init.run()\n",
    "    for epoch in range(epochs):\n",
    "#        for iteration in range(20):\n",
    "#            X_batch,y_batch=generate_batch(X_train,y_train,batch_size)\n",
    "\n",
    "        for X_batch,y_batch in shuffle_batch(X_train,y_train,batch_size):\n",
    "            training_op.run(feed_dict={X:X_batch,y:y_batch})\n",
    "        print(epoch,'Test accuracy:',accuracy.eval(feed_dict={X:X_test,y:y_test}))\n",
    "    save_path=saver.save(sess,'./saved_models/batch_norm_on_mnist.ckpt')"
   ]
  },
  {
   "cell_type": "code",
   "execution_count": null,
   "metadata": {},
   "outputs": [],
   "source": []
  },
  {
   "cell_type": "code",
   "execution_count": null,
   "metadata": {},
   "outputs": [],
   "source": []
  }
 ],
 "metadata": {
  "kernelspec": {
   "display_name": "Python 3",
   "language": "python",
   "name": "python3"
  },
  "language_info": {
   "codemirror_mode": {
    "name": "ipython",
    "version": 3
   },
   "file_extension": ".py",
   "mimetype": "text/x-python",
   "name": "python",
   "nbconvert_exporter": "python",
   "pygments_lexer": "ipython3",
   "version": "3.6.4"
  }
 },
 "nbformat": 4,
 "nbformat_minor": 2
}
