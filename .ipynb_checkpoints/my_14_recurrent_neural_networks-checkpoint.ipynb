{
 "cells": [
  {
   "cell_type": "code",
   "execution_count": 1,
   "metadata": {},
   "outputs": [
    {
     "name": "stderr",
     "output_type": "stream",
     "text": [
      "D:\\Anaconda3\\lib\\site-packages\\h5py\\__init__.py:36: FutureWarning: Conversion of the second argument of issubdtype from `float` to `np.floating` is deprecated. In future, it will be treated as `np.float64 == np.dtype(float).type`.\n",
      "  from ._conv import register_converters as _register_converters\n"
     ]
    }
   ],
   "source": [
    "import tensorflow as tf\n",
    "import numpy as np"
   ]
  },
  {
   "cell_type": "markdown",
   "metadata": {},
   "source": [
    "# Basic RNNs"
   ]
  },
  {
   "cell_type": "markdown",
   "metadata": {},
   "source": [
    "## static rnn"
   ]
  },
  {
   "cell_type": "code",
   "execution_count": 16,
   "metadata": {},
   "outputs": [
    {
     "name": "stdout",
     "output_type": "stream",
     "text": [
      "[[-0.99995846  0.64994746  0.9477255   0.98284125  0.9999328 ]\n",
      " [-0.5907206   0.9928911  -0.99987364 -0.86659724  0.28669733]\n",
      " [-0.9777578   0.9997149  -0.99999285 -0.9932403  -0.9603141 ]\n",
      " [-0.999967    0.9822514  -0.5380911   0.41656542  0.98254174]] \n",
      "\n",
      " [[-0.9999987   0.9948482  -0.6889066   0.64732695  0.9997804 ]\n",
      " [-0.90015143  0.99731237 -0.9998616  -0.870236    0.7393007 ]\n",
      " [-0.96263134  0.959434   -0.98530495 -0.07533193  0.5642953 ]\n",
      " [-0.9992089   0.75599885  0.06243335  0.98870724  0.9999998 ]]\n"
     ]
    }
   ],
   "source": [
    "tf.reset_default_graph()\n",
    "n_inputs=3\n",
    "n_neurons=5\n",
    "\n",
    "X0=tf.placeholder(tf.float32,[None,n_inputs])\n",
    "X1=tf.placeholder(tf.float32,[None,n_inputs])\n",
    "\n",
    "basic_cell=tf.contrib.rnn.BasicRNNCell(num_units=n_neurons)\n",
    "output_seqs,states=tf.contrib.rnn.static_rnn(basic_cell,[X0,X1],dtype=tf.float32)\n",
    "Y0,Y1=output_seqs\n",
    "\n",
    "X0_batch=np.random.randint(0,10,(4,3))\n",
    "X1_batch=np.random.randint(0,10,(4,3))\n",
    "\n",
    "init=tf.global_variables_initializer()\n",
    "with tf.Session() as sess:\n",
    "    init.run()\n",
    "    Y0_val,Y1_val=sess.run([Y0,Y1],feed_dict={X0:X0_batch,X1:X1_batch})\n",
    "\n",
    "print(Y0_val,'\\n\\n',Y1_val)"
   ]
  },
  {
   "cell_type": "code",
   "execution_count": 19,
   "metadata": {},
   "outputs": [],
   "source": [
    "import sys\n",
    "sys.path.append('../handson-ml')\n",
    "from tensorflow_graph_in_jupyter import show_graph\n",
    "#show_graph(tf.get_default_graph())"
   ]
  },
  {
   "cell_type": "markdown",
   "metadata": {},
   "source": [
    "## dynamic rnn"
   ]
  },
  {
   "cell_type": "code",
   "execution_count": 25,
   "metadata": {},
   "outputs": [
    {
     "name": "stdout",
     "output_type": "stream",
     "text": [
      "[[[-0.13739704  0.47404662  0.8220064   0.6159681  -0.6323763 ]\n",
      "  [ 0.9999972   0.999962   -0.13603927  0.9997109   0.9146552 ]]\n",
      "\n",
      " [[ 0.9541514   0.9907224   0.89607644  0.980434   -0.45596564]\n",
      "  [ 0.73192    -0.4265762   0.23776443  0.73539215  0.7067916 ]]\n",
      "\n",
      " [[ 0.99916536  0.9998782   0.9403324   0.9991788  -0.23459452]\n",
      "  [ 0.99990886  0.9977797  -0.39854965  0.9975424   0.9768478 ]]\n",
      "\n",
      " [[ 0.9997699   0.99998426 -0.9995244   0.36805505  0.79117316]\n",
      "  [ 0.9293771   0.9286477  -0.17988071  0.9236963   0.9489698 ]]]\n"
     ]
    }
   ],
   "source": [
    "tf.reset_default_graph()\n",
    "n_inputs=3\n",
    "n_neurons=5\n",
    "n_steps=2\n",
    "\n",
    "X=tf.placeholder(tf.float32,[None,n_steps,n_inputs])\n",
    "basic_cell=tf.contrib.rnn.BasicRNNCell(num_units=n_neurons)\n",
    "outputs,states=tf.nn.dynamic_rnn(basic_cell,X,dtype=tf.float32)\n",
    "\n",
    "init=tf.global_variables_initializer()\n",
    "X_batch = np.array([\n",
    "        [[0, 1, 2], [9, 8, 7]], # instance 1\n",
    "        [[3, 4, 5], [0, 0, 0]], # instance 2\n",
    "        [[6, 7, 8], [6, 5, 4]], # instance 3\n",
    "        [[9, 0, 1], [3, 2, 1]], # instance 4\n",
    "    ])\n",
    "\n",
    "with tf.Session() as sess:\n",
    "    init.run()\n",
    "    outputs_val=outputs.eval(feed_dict={X:X_batch})\n",
    "\n",
    "print(outputs_val)"
   ]
  },
  {
   "cell_type": "markdown",
   "metadata": {},
   "source": [
    "# Training to Predict Time Series"
   ]
  },
  {
   "cell_type": "code",
   "execution_count": 2,
   "metadata": {},
   "outputs": [],
   "source": [
    "t_min, t_max = 0, 30\n",
    "resolution = 0.1\n",
    "\n",
    "def time_series(t):\n",
    "    return t * np.sin(t) / 3 + 2 * np.sin(t*5)\n",
    "\n",
    "def next_batch(batch_size, n_steps):\n",
    "    t0 = np.random.rand(batch_size, 1) * (t_max - t_min - n_steps * resolution)\n",
    "    Ts = t0 + np.arange(0., n_steps + 1) * resolution\n",
    "    ys = time_series(Ts)\n",
    "    return ys[:, :-1].reshape(-1, n_steps, 1), ys[:, 1:].reshape(-1, n_steps, 1)"
   ]
  },
  {
   "cell_type": "code",
   "execution_count": 10,
   "metadata": {},
   "outputs": [
    {
     "name": "stdout",
     "output_type": "stream",
     "text": [
      "0 mse: 12.404406\n",
      "99 mse: 0.47094506\n",
      "199 mse: 0.13753077\n",
      "299 mse: 0.05824591\n",
      "399 mse: 0.05306262\n",
      "499 mse: 0.047133744\n",
      "599 mse: 0.051453795\n",
      "699 mse: 0.054657504\n",
      "799 mse: 0.050477643\n",
      "899 mse: 0.044989754\n",
      "999 mse: 0.04391702\n"
     ]
    }
   ],
   "source": [
    "tf.reset_default_graph()\n",
    "\n",
    "n_steps=20\n",
    "n_inputs=1\n",
    "n_neurons=100\n",
    "n_outputs=1\n",
    "\n",
    "X=tf.placeholder(tf.float32,[None,n_steps,n_inputs])\n",
    "y=tf.placeholder(tf.float32,[None,n_steps,n_outputs])\n",
    "\n",
    "#cell=tf.contrib.rnn.BasicRNNCell(num_units=n_neurons,activation=tf.nn.elu)\n",
    "cell = tf.contrib.rnn.OutputProjectionWrapper(\n",
    "    tf.contrib.rnn.BasicRNNCell(num_units=n_neurons, activation=tf.nn.relu),\n",
    "    output_size=n_outputs)\n",
    "outputs,states=tf.nn.dynamic_rnn(cell,X,dtype=tf.float32)\n",
    "\n",
    "cell=tf.contrib.rnn.OutputProjectionWrapper(\n",
    "tf.contrib.rnn.BasicRNNCell(num_units=n_neurons,activation=tf.nn.elu),output_size=n_outputs)\n",
    "\n",
    "learning_rate=1e-3\n",
    "loss=tf.reduce_mean(tf.square(outputs-y))\n",
    "optimizer=tf.train.AdamOptimizer(learning_rate=learning_rate)\n",
    "training_op=optimizer.minimize(loss)\n",
    "\n",
    "init=tf.global_variables_initializer()\n",
    "\n",
    "n_iterations=1000\n",
    "batch_size=50\n",
    "\n",
    "with tf.Session() as sess:\n",
    "    init.run()\n",
    "    for iteration in range(n_iterations):\n",
    "        X_batch,y_batch=next_batch(batch_size,n_steps)\n",
    "        training_op.run(feed_dict={X:X_batch,y:y_batch})\n",
    "        if (iteration+1)%100==0 or iteration==0:\n",
    "            print(iteration,'mse:',loss.eval(feed_dict={X:X_batch,y:y_batch}))"
   ]
  },
  {
   "cell_type": "code",
   "execution_count": null,
   "metadata": {},
   "outputs": [],
   "source": []
  }
 ],
 "metadata": {
  "kernelspec": {
   "display_name": "Python 3",
   "language": "python",
   "name": "python3"
  },
  "language_info": {
   "codemirror_mode": {
    "name": "ipython",
    "version": 3
   },
   "file_extension": ".py",
   "mimetype": "text/x-python",
   "name": "python",
   "nbconvert_exporter": "python",
   "pygments_lexer": "ipython3",
   "version": "3.6.4"
  }
 },
 "nbformat": 4,
 "nbformat_minor": 2
}
