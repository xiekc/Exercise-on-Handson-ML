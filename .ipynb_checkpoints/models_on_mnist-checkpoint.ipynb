{
 "cells": [
  {
   "cell_type": "code",
   "execution_count": 7,
   "metadata": {},
   "outputs": [],
   "source": [
    "import tensorflow as tf\n",
    "(X_train, y_train), (X_test, y_test) = tf.keras.datasets.mnist.load_data()"
   ]
  },
  {
   "cell_type": "code",
   "execution_count": 2,
   "metadata": {},
   "outputs": [],
   "source": [
    "import numpy as np\n",
    "import sklearn as sk"
   ]
  },
  {
   "cell_type": "code",
   "execution_count": 3,
   "metadata": {},
   "outputs": [],
   "source": [
    "X_train=X_train.astype(np.float32).reshape(-1,28*28)/255\n",
    "X_test= X_test.astype(np.float32).reshape(-1, 28*28) / 255"
   ]
  },
  {
   "cell_type": "markdown",
   "metadata": {},
   "source": [
    "# Softmax Regression"
   ]
  },
  {
   "cell_type": "markdown",
   "metadata": {},
   "source": [
    "$$s_k(x)={\\theta_k}^T\\cdot x$$"
   ]
  },
  {
   "cell_type": "markdown",
   "metadata": {},
   "source": [
    "## use sklearn"
   ]
  },
  {
   "cell_type": "markdown",
   "metadata": {},
   "source": [
    "```py\n",
    "from sklearn.linear_model import LogisticRegression\n",
    "softmax=LogisticRegression(multi_class='multinomial',solver='lbfgs',C=10)\n",
    "softmax.fit(X_train,y_train)\n",
    "```"
   ]
  },
  {
   "cell_type": "code",
   "execution_count": 13,
   "metadata": {},
   "outputs": [],
   "source": [
    "softmax=joblib.load('./saved_models/softmax_on_mnist.pkl')"
   ]
  },
  {
   "cell_type": "code",
   "execution_count": 14,
   "metadata": {},
   "outputs": [
    {
     "name": "stdout",
     "output_type": "stream",
     "text": [
      "0.9258\n"
     ]
    }
   ],
   "source": [
    "from sklearn.metrics import accuracy_score\n",
    "y_pred_sm=softmax.predict(X_test)\n",
    "print(accuracy_score(y_test,y_pred_sm))\n",
    "#0.9258"
   ]
  },
  {
   "cell_type": "markdown",
   "metadata": {},
   "source": [
    "```python\n",
    "#cross validation\n",
    "from sklearn.model_selection import cross_val_predict\n",
    "y_scores_sm=cross_val_predict(softmax,X_train_sm,y_train,cv=3,method='predict')\n",
    "method : string, optional, default: ‘predict’\n",
    "\n",
    "from sklearn.metrics import accuracy_score\n",
    "print(accuracy_score(y_train,y_scores_sm))\n",
    "#0.91685\n",
    "```"
   ]
  },
  {
   "cell_type": "code",
   "execution_count": 12,
   "metadata": {},
   "outputs": [
    {
     "data": {
      "text/plain": [
       "['./saved_models/softmax_on_mnist.pkl']"
      ]
     },
     "execution_count": 12,
     "metadata": {},
     "output_type": "execute_result"
    }
   ],
   "source": [
    "from sklearn.externals import joblib\n",
    "joblib.dump(softmax,'./saved_models/softmax_on_mnist.pkl')"
   ]
  },
  {
   "cell_type": "markdown",
   "metadata": {},
   "source": [
    "## use tensorflow"
   ]
  },
  {
   "cell_type": "markdown",
   "metadata": {},
   "source": [
    "$$s_k(x)={\\theta_x}^T\\cdot x+b$$"
   ]
  },
  {
   "cell_type": "code",
   "execution_count": 10,
   "metadata": {},
   "outputs": [],
   "source": [
    "import tensorflow as tf\n",
    "import numpy as np"
   ]
  },
  {
   "cell_type": "code",
   "execution_count": 4,
   "metadata": {},
   "outputs": [
    {
     "name": "stdout",
     "output_type": "stream",
     "text": [
      "Extracting ./my_datasets_mnist/train-images-idx3-ubyte.gz\n",
      "Extracting ./my_datasets_mnist/train-labels-idx1-ubyte.gz\n",
      "Extracting ./my_datasets_mnist/t10k-images-idx3-ubyte.gz\n",
      "Extracting ./my_datasets_mnist/t10k-labels-idx1-ubyte.gz\n"
     ]
    }
   ],
   "source": [
    "from tensorflow.examples.tutorials.mnist import input_data\n",
    "mnist =input_data.read_data_sets('./my_datasets_mnist/')"
   ]
  },
  {
   "cell_type": "code",
   "execution_count": 5,
   "metadata": {},
   "outputs": [],
   "source": [
    "n_inputs=28*28"
   ]
  },
  {
   "cell_type": "code",
   "execution_count": 24,
   "metadata": {},
   "outputs": [],
   "source": [
    "X=tf.placeholder(tf.float32,shape=(None,n_inputs),name='X')\n",
    "y=tf.placeholder(tf.int64,shape=(None),name='y')"
   ]
  },
  {
   "cell_type": "code",
   "execution_count": 62,
   "metadata": {},
   "outputs": [],
   "source": [
    "stddev=np.sqrt(2/(n_inputs+10))\n",
    "W_init=tf.truncated_normal([n_inputs,10],stddev=stddev)\n",
    "W=tf.Variable(W_init)\n",
    "b=tf.Variable(np.ones(10).astype(np.float32))"
   ]
  },
  {
   "cell_type": "code",
   "execution_count": 63,
   "metadata": {},
   "outputs": [],
   "source": [
    "logits=tf.matmul(X,W)+b"
   ]
  },
  {
   "cell_type": "code",
   "execution_count": 64,
   "metadata": {},
   "outputs": [],
   "source": [
    "entropy=tf.nn.sparse_softmax_cross_entropy_with_logits(labels=y,logits=logits)\n",
    "loss=tf.reduce_mean(entropy)"
   ]
  },
  {
   "cell_type": "code",
   "execution_count": 65,
   "metadata": {},
   "outputs": [],
   "source": [
    "accuracy=tf.reduce_mean(tf.cast(tf.nn.in_top_k(logits,y,1),tf.float32))"
   ]
  },
  {
   "cell_type": "code",
   "execution_count": 66,
   "metadata": {},
   "outputs": [],
   "source": [
    "training_op=tf.train.GradientDescentOptimizer(0.01).minimize(loss)"
   ]
  },
  {
   "cell_type": "code",
   "execution_count": 67,
   "metadata": {},
   "outputs": [],
   "source": [
    "init=tf.global_variables_initializer()\n",
    "n_epochs=400\n",
    "batch_size=50"
   ]
  },
  {
   "cell_type": "code",
   "execution_count": 71,
   "metadata": {},
   "outputs": [
    {
     "name": "stdout",
     "output_type": "stream",
     "text": [
      "0 Test accuracy: 0.8673\n",
      "1 Test accuracy: 0.8849\n",
      "2 Test accuracy: 0.8906\n",
      "3 Test accuracy: 0.8979\n",
      "4 Test accuracy: 0.9017\n",
      "5 Test accuracy: 0.9051\n",
      "6 Test accuracy: 0.9081\n",
      "7 Test accuracy: 0.9078\n",
      "8 Test accuracy: 0.9094\n",
      "9 Test accuracy: 0.9104\n",
      "10 Test accuracy: 0.911\n",
      "11 Test accuracy: 0.9122\n",
      "12 Test accuracy: 0.9142\n",
      "13 Test accuracy: 0.914\n",
      "14 Test accuracy: 0.9148\n",
      "15 Test accuracy: 0.915\n",
      "16 Test accuracy: 0.9172\n",
      "17 Test accuracy: 0.9161\n",
      "18 Test accuracy: 0.9176\n",
      "19 Test accuracy: 0.9175\n",
      "20 Test accuracy: 0.9169\n",
      "21 Test accuracy: 0.9181\n",
      "22 Test accuracy: 0.9181\n",
      "23 Test accuracy: 0.9177\n",
      "24 Test accuracy: 0.9194\n",
      "25 Test accuracy: 0.9183\n",
      "26 Test accuracy: 0.9193\n",
      "27 Test accuracy: 0.9178\n",
      "28 Test accuracy: 0.9188\n",
      "29 Test accuracy: 0.9206\n",
      "30 Test accuracy: 0.9206\n",
      "31 Test accuracy: 0.9195\n",
      "32 Test accuracy: 0.9214\n",
      "33 Test accuracy: 0.9204\n",
      "34 Test accuracy: 0.9203\n",
      "35 Test accuracy: 0.9197\n",
      "36 Test accuracy: 0.9209\n",
      "37 Test accuracy: 0.921\n",
      "38 Test accuracy: 0.9202\n",
      "39 Test accuracy: 0.9214\n",
      "40 Test accuracy: 0.9209\n",
      "41 Test accuracy: 0.9215\n",
      "42 Test accuracy: 0.9213\n",
      "43 Test accuracy: 0.9207\n",
      "44 Test accuracy: 0.9217\n",
      "45 Test accuracy: 0.921\n",
      "46 Test accuracy: 0.9216\n",
      "47 Test accuracy: 0.9222\n",
      "48 Test accuracy: 0.9211\n",
      "49 Test accuracy: 0.9206\n",
      "50 Test accuracy: 0.9211\n",
      "51 Test accuracy: 0.9227\n",
      "52 Test accuracy: 0.9212\n",
      "53 Test accuracy: 0.9223\n",
      "54 Test accuracy: 0.9211\n",
      "55 Test accuracy: 0.9212\n",
      "56 Test accuracy: 0.9216\n",
      "57 Test accuracy: 0.9227\n",
      "58 Test accuracy: 0.9216\n",
      "59 Test accuracy: 0.9222\n",
      "60 Test accuracy: 0.9218\n",
      "61 Test accuracy: 0.9219\n",
      "62 Test accuracy: 0.922\n",
      "63 Test accuracy: 0.9226\n",
      "64 Test accuracy: 0.9217\n",
      "65 Test accuracy: 0.9229\n",
      "66 Test accuracy: 0.9222\n",
      "67 Test accuracy: 0.922\n",
      "68 Test accuracy: 0.9223\n",
      "69 Test accuracy: 0.9227\n",
      "70 Test accuracy: 0.9217\n",
      "71 Test accuracy: 0.9222\n",
      "72 Test accuracy: 0.922\n",
      "73 Test accuracy: 0.9226\n",
      "74 Test accuracy: 0.9227\n",
      "75 Test accuracy: 0.9228\n",
      "76 Test accuracy: 0.9222\n",
      "77 Test accuracy: 0.9235\n",
      "78 Test accuracy: 0.9231\n",
      "79 Test accuracy: 0.9227\n",
      "80 Test accuracy: 0.9221\n",
      "81 Test accuracy: 0.9228\n",
      "82 Test accuracy: 0.9234\n",
      "83 Test accuracy: 0.923\n",
      "84 Test accuracy: 0.9218\n",
      "85 Test accuracy: 0.9225\n",
      "86 Test accuracy: 0.9235\n",
      "87 Test accuracy: 0.9227\n",
      "88 Test accuracy: 0.9221\n",
      "89 Test accuracy: 0.9223\n",
      "90 Test accuracy: 0.9218\n",
      "91 Test accuracy: 0.9224\n",
      "92 Test accuracy: 0.9225\n",
      "93 Test accuracy: 0.9233\n",
      "94 Test accuracy: 0.923\n",
      "95 Test accuracy: 0.9224\n",
      "96 Test accuracy: 0.9223\n",
      "97 Test accuracy: 0.9217\n",
      "98 Test accuracy: 0.9226\n",
      "99 Test accuracy: 0.9231\n",
      "100 Test accuracy: 0.9235\n",
      "101 Test accuracy: 0.9223\n",
      "102 Test accuracy: 0.9225\n",
      "103 Test accuracy: 0.923\n",
      "104 Test accuracy: 0.9232\n",
      "105 Test accuracy: 0.9222\n",
      "106 Test accuracy: 0.9224\n",
      "107 Test accuracy: 0.9222\n",
      "108 Test accuracy: 0.9229\n",
      "109 Test accuracy: 0.9231\n",
      "110 Test accuracy: 0.9232\n",
      "111 Test accuracy: 0.9233\n",
      "112 Test accuracy: 0.9229\n",
      "113 Test accuracy: 0.9238\n",
      "114 Test accuracy: 0.9236\n",
      "115 Test accuracy: 0.9236\n",
      "116 Test accuracy: 0.9236\n",
      "117 Test accuracy: 0.9227\n",
      "118 Test accuracy: 0.923\n",
      "119 Test accuracy: 0.9238\n",
      "120 Test accuracy: 0.9237\n",
      "121 Test accuracy: 0.9236\n",
      "122 Test accuracy: 0.9241\n",
      "123 Test accuracy: 0.9245\n",
      "124 Test accuracy: 0.9238\n",
      "125 Test accuracy: 0.9226\n",
      "126 Test accuracy: 0.9231\n",
      "127 Test accuracy: 0.9238\n",
      "128 Test accuracy: 0.9237\n",
      "129 Test accuracy: 0.9229\n",
      "130 Test accuracy: 0.9226\n",
      "131 Test accuracy: 0.9235\n",
      "132 Test accuracy: 0.923\n",
      "133 Test accuracy: 0.9231\n",
      "134 Test accuracy: 0.9242\n",
      "135 Test accuracy: 0.9232\n",
      "136 Test accuracy: 0.9235\n",
      "137 Test accuracy: 0.9232\n",
      "138 Test accuracy: 0.9235\n",
      "139 Test accuracy: 0.9241\n",
      "140 Test accuracy: 0.9236\n",
      "141 Test accuracy: 0.9231\n",
      "142 Test accuracy: 0.9239\n",
      "143 Test accuracy: 0.9232\n",
      "144 Test accuracy: 0.923\n",
      "145 Test accuracy: 0.9233\n",
      "146 Test accuracy: 0.9236\n",
      "147 Test accuracy: 0.924\n",
      "148 Test accuracy: 0.9243\n",
      "149 Test accuracy: 0.9233\n",
      "150 Test accuracy: 0.9241\n",
      "151 Test accuracy: 0.9235\n",
      "152 Test accuracy: 0.9236\n",
      "153 Test accuracy: 0.9228\n",
      "154 Test accuracy: 0.9233\n",
      "155 Test accuracy: 0.9238\n",
      "156 Test accuracy: 0.9246\n",
      "157 Test accuracy: 0.9234\n",
      "158 Test accuracy: 0.9234\n",
      "159 Test accuracy: 0.924\n",
      "160 Test accuracy: 0.9242\n",
      "161 Test accuracy: 0.9232\n",
      "162 Test accuracy: 0.9245\n",
      "163 Test accuracy: 0.9238\n",
      "164 Test accuracy: 0.924\n",
      "165 Test accuracy: 0.9239\n",
      "166 Test accuracy: 0.9233\n",
      "167 Test accuracy: 0.9245\n",
      "168 Test accuracy: 0.9232\n",
      "169 Test accuracy: 0.9242\n",
      "170 Test accuracy: 0.9234\n",
      "171 Test accuracy: 0.924\n",
      "172 Test accuracy: 0.9246\n",
      "173 Test accuracy: 0.9236\n",
      "174 Test accuracy: 0.9238\n",
      "175 Test accuracy: 0.9236\n",
      "176 Test accuracy: 0.9233\n",
      "177 Test accuracy: 0.9249\n",
      "178 Test accuracy: 0.9242\n",
      "179 Test accuracy: 0.9232\n",
      "180 Test accuracy: 0.9241\n",
      "181 Test accuracy: 0.9232\n",
      "182 Test accuracy: 0.9238\n",
      "183 Test accuracy: 0.9255\n",
      "184 Test accuracy: 0.9228\n",
      "185 Test accuracy: 0.9239\n",
      "186 Test accuracy: 0.9242\n",
      "187 Test accuracy: 0.9248\n",
      "188 Test accuracy: 0.9239\n",
      "189 Test accuracy: 0.9245\n",
      "190 Test accuracy: 0.9235\n",
      "191 Test accuracy: 0.9247\n",
      "192 Test accuracy: 0.9238\n",
      "193 Test accuracy: 0.9238\n",
      "194 Test accuracy: 0.9244\n",
      "195 Test accuracy: 0.9248\n",
      "196 Test accuracy: 0.9233\n",
      "197 Test accuracy: 0.9252\n",
      "198 Test accuracy: 0.9247\n",
      "199 Test accuracy: 0.9247\n",
      "200 Test accuracy: 0.9244\n",
      "201 Test accuracy: 0.9237\n",
      "202 Test accuracy: 0.9253\n",
      "203 Test accuracy: 0.9242\n",
      "204 Test accuracy: 0.924\n",
      "205 Test accuracy: 0.9251\n",
      "206 Test accuracy: 0.925\n",
      "207 Test accuracy: 0.9252\n",
      "208 Test accuracy: 0.925\n",
      "209 Test accuracy: 0.925\n",
      "210 Test accuracy: 0.9253\n",
      "211 Test accuracy: 0.9255\n",
      "212 Test accuracy: 0.9241\n",
      "213 Test accuracy: 0.924\n",
      "214 Test accuracy: 0.9242\n",
      "215 Test accuracy: 0.9252\n",
      "216 Test accuracy: 0.9254\n",
      "217 Test accuracy: 0.9244\n",
      "218 Test accuracy: 0.9248\n",
      "219 Test accuracy: 0.9256\n",
      "220 Test accuracy: 0.9252\n",
      "221 Test accuracy: 0.9247\n",
      "222 Test accuracy: 0.9247\n",
      "223 Test accuracy: 0.9249\n",
      "224 Test accuracy: 0.9244\n",
      "225 Test accuracy: 0.925\n",
      "226 Test accuracy: 0.9242\n",
      "227 Test accuracy: 0.9237\n",
      "228 Test accuracy: 0.9252\n",
      "229 Test accuracy: 0.9249\n",
      "230 Test accuracy: 0.9252\n",
      "231 Test accuracy: 0.9256\n",
      "232 Test accuracy: 0.9257\n",
      "233 Test accuracy: 0.9255\n",
      "234 Test accuracy: 0.9245\n",
      "235 Test accuracy: 0.9248\n",
      "236 Test accuracy: 0.9248\n",
      "237 Test accuracy: 0.9254\n",
      "238 Test accuracy: 0.9251\n",
      "239 Test accuracy: 0.9249\n",
      "240 Test accuracy: 0.9245\n",
      "241 Test accuracy: 0.9257\n",
      "242 Test accuracy: 0.9248\n",
      "243 Test accuracy: 0.9249\n",
      "244 Test accuracy: 0.926\n",
      "245 Test accuracy: 0.9249\n",
      "246 Test accuracy: 0.9247\n",
      "247 Test accuracy: 0.9245\n",
      "248 Test accuracy: 0.9245\n",
      "249 Test accuracy: 0.926\n",
      "250 Test accuracy: 0.9251\n",
      "251 Test accuracy: 0.9249\n",
      "252 Test accuracy: 0.9248\n",
      "253 Test accuracy: 0.9255\n",
      "254 Test accuracy: 0.9257\n",
      "255 Test accuracy: 0.9254\n",
      "256 Test accuracy: 0.9257\n",
      "257 Test accuracy: 0.9253\n",
      "258 Test accuracy: 0.9244\n",
      "259 Test accuracy: 0.9261\n",
      "260 Test accuracy: 0.9254\n",
      "261 Test accuracy: 0.9251\n",
      "262 Test accuracy: 0.9255\n",
      "263 Test accuracy: 0.9251\n",
      "264 Test accuracy: 0.9254\n",
      "265 Test accuracy: 0.9254\n",
      "266 Test accuracy: 0.9251\n",
      "267 Test accuracy: 0.9257\n",
      "268 Test accuracy: 0.9257\n",
      "269 Test accuracy: 0.9255\n",
      "270 Test accuracy: 0.9252\n",
      "271 Test accuracy: 0.9267\n",
      "272 Test accuracy: 0.9256\n",
      "273 Test accuracy: 0.9256\n",
      "274 Test accuracy: 0.9253\n",
      "275 Test accuracy: 0.9265\n",
      "276 Test accuracy: 0.9261\n",
      "277 Test accuracy: 0.925\n",
      "278 Test accuracy: 0.9262\n",
      "279 Test accuracy: 0.9257\n",
      "280 Test accuracy: 0.9255\n",
      "281 Test accuracy: 0.9258\n",
      "282 Test accuracy: 0.9251\n",
      "283 Test accuracy: 0.9259\n",
      "284 Test accuracy: 0.925\n",
      "285 Test accuracy: 0.9265\n",
      "286 Test accuracy: 0.9256\n",
      "287 Test accuracy: 0.9264\n",
      "288 Test accuracy: 0.9257\n",
      "289 Test accuracy: 0.9262\n",
      "290 Test accuracy: 0.926\n",
      "291 Test accuracy: 0.9265\n",
      "292 Test accuracy: 0.9253\n",
      "293 Test accuracy: 0.9254\n",
      "294 Test accuracy: 0.9254\n",
      "295 Test accuracy: 0.925\n",
      "296 Test accuracy: 0.9251\n",
      "297 Test accuracy: 0.9258\n",
      "298 Test accuracy: 0.9261\n",
      "299 Test accuracy: 0.9257\n",
      "300 Test accuracy: 0.9255\n",
      "301 Test accuracy: 0.9261\n",
      "302 Test accuracy: 0.9252\n",
      "303 Test accuracy: 0.9259\n",
      "304 Test accuracy: 0.9254\n",
      "305 Test accuracy: 0.9264\n",
      "306 Test accuracy: 0.9255\n",
      "307 Test accuracy: 0.9262\n",
      "308 Test accuracy: 0.9265\n",
      "309 Test accuracy: 0.9253\n",
      "310 Test accuracy: 0.9259\n",
      "311 Test accuracy: 0.9257\n",
      "312 Test accuracy: 0.9259\n",
      "313 Test accuracy: 0.9255\n",
      "314 Test accuracy: 0.9264\n",
      "315 Test accuracy: 0.9253\n",
      "316 Test accuracy: 0.926\n",
      "317 Test accuracy: 0.9255\n",
      "318 Test accuracy: 0.9255\n",
      "319 Test accuracy: 0.9256\n",
      "320 Test accuracy: 0.9255\n"
     ]
    },
    {
     "name": "stdout",
     "output_type": "stream",
     "text": [
      "321 Test accuracy: 0.926\n",
      "322 Test accuracy: 0.9255\n",
      "323 Test accuracy: 0.9254\n",
      "324 Test accuracy: 0.9257\n",
      "325 Test accuracy: 0.9265\n",
      "326 Test accuracy: 0.9257\n",
      "327 Test accuracy: 0.926\n",
      "328 Test accuracy: 0.9259\n",
      "329 Test accuracy: 0.9257\n",
      "330 Test accuracy: 0.9259\n",
      "331 Test accuracy: 0.9259\n",
      "332 Test accuracy: 0.9263\n",
      "333 Test accuracy: 0.9259\n",
      "334 Test accuracy: 0.9255\n",
      "335 Test accuracy: 0.9255\n",
      "336 Test accuracy: 0.9263\n",
      "337 Test accuracy: 0.9259\n",
      "338 Test accuracy: 0.9254\n",
      "339 Test accuracy: 0.9259\n",
      "340 Test accuracy: 0.9261\n",
      "341 Test accuracy: 0.9263\n",
      "342 Test accuracy: 0.9251\n",
      "343 Test accuracy: 0.926\n",
      "344 Test accuracy: 0.9266\n",
      "345 Test accuracy: 0.9259\n",
      "346 Test accuracy: 0.9259\n",
      "347 Test accuracy: 0.9256\n",
      "348 Test accuracy: 0.926\n",
      "349 Test accuracy: 0.9256\n",
      "350 Test accuracy: 0.9257\n",
      "351 Test accuracy: 0.9256\n",
      "352 Test accuracy: 0.9255\n",
      "353 Test accuracy: 0.9264\n",
      "354 Test accuracy: 0.9258\n",
      "355 Test accuracy: 0.926\n",
      "356 Test accuracy: 0.9259\n",
      "357 Test accuracy: 0.926\n",
      "358 Test accuracy: 0.9263\n",
      "359 Test accuracy: 0.9257\n",
      "360 Test accuracy: 0.9256\n",
      "361 Test accuracy: 0.9258\n",
      "362 Test accuracy: 0.9272\n",
      "363 Test accuracy: 0.9268\n",
      "364 Test accuracy: 0.926\n",
      "365 Test accuracy: 0.9265\n",
      "366 Test accuracy: 0.9259\n",
      "367 Test accuracy: 0.9262\n",
      "368 Test accuracy: 0.9262\n",
      "369 Test accuracy: 0.9265\n",
      "370 Test accuracy: 0.9258\n",
      "371 Test accuracy: 0.9258\n",
      "372 Test accuracy: 0.926\n",
      "373 Test accuracy: 0.9262\n",
      "374 Test accuracy: 0.926\n",
      "375 Test accuracy: 0.9254\n",
      "376 Test accuracy: 0.9265\n",
      "377 Test accuracy: 0.9255\n",
      "378 Test accuracy: 0.9255\n",
      "379 Test accuracy: 0.9256\n",
      "380 Test accuracy: 0.9258\n",
      "381 Test accuracy: 0.9255\n",
      "382 Test accuracy: 0.9255\n",
      "383 Test accuracy: 0.9265\n",
      "384 Test accuracy: 0.9261\n",
      "385 Test accuracy: 0.9257\n",
      "386 Test accuracy: 0.9264\n",
      "387 Test accuracy: 0.9265\n",
      "388 Test accuracy: 0.9263\n",
      "389 Test accuracy: 0.9263\n",
      "390 Test accuracy: 0.9262\n",
      "391 Test accuracy: 0.926\n",
      "392 Test accuracy: 0.9263\n",
      "393 Test accuracy: 0.9259\n",
      "394 Test accuracy: 0.9257\n",
      "395 Test accuracy: 0.9257\n",
      "396 Test accuracy: 0.926\n",
      "397 Test accuracy: 0.9258\n",
      "398 Test accuracy: 0.926\n",
      "399 Test accuracy: 0.9261\n"
     ]
    }
   ],
   "source": [
    "with tf.Session() as sess:\n",
    "    init.run()\n",
    "    for epoch in range(n_epochs):\n",
    "        for iteration in range(mnist.train.num_examples//batch_size):\n",
    "            X_batch,y_batch=mnist.train.next_batch(batch_size)\n",
    "            training_op.run(feed_dict={X:X_batch,\n",
    "                                       y:y_batch})\n",
    "        acc_test=accuracy.eval(feed_dict={X:mnist.test.images,y:mnist.test.labels})\n",
    "        print(epoch,\"Test accuracy:\",acc_test)\n",
    "    "
   ]
  },
  {
   "cell_type": "code",
   "execution_count": 68,
   "metadata": {},
   "outputs": [
    {
     "data": {
      "text/plain": [
       "(50, 784)"
      ]
     },
     "execution_count": 68,
     "metadata": {},
     "output_type": "execute_result"
    }
   ],
   "source": [
    "X_batch.shape"
   ]
  },
  {
   "cell_type": "markdown",
   "metadata": {},
   "source": [
    "# Ensemble Learning with ANNs"
   ]
  },
  {
   "cell_type": "markdown",
   "metadata": {},
   "source": [
    "# DNN"
   ]
  },
  {
   "cell_type": "code",
   "execution_count": null,
   "metadata": {},
   "outputs": [],
   "source": []
  }
 ],
 "metadata": {
  "kernelspec": {
   "display_name": "Python 3",
   "language": "python",
   "name": "python3"
  },
  "language_info": {
   "codemirror_mode": {
    "name": "ipython",
    "version": 3
   },
   "file_extension": ".py",
   "mimetype": "text/x-python",
   "name": "python",
   "nbconvert_exporter": "python",
   "pygments_lexer": "ipython3",
   "version": "3.6.4"
  }
 },
 "nbformat": 4,
 "nbformat_minor": 2
}
