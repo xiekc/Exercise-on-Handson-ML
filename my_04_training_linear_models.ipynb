{
 "cells": [
  {
   "cell_type": "code",
   "execution_count": 1,
   "metadata": {},
   "outputs": [],
   "source": [
    "import numpy as np\n",
    "\n",
    "X=2*np.random.rand(100,1)\n",
    "y=4+3*X+np.random.randn(100,1)"
   ]
  },
  {
   "cell_type": "code",
   "execution_count": 2,
   "metadata": {},
   "outputs": [
    {
     "name": "stdout",
     "output_type": "stream",
     "text": [
      "[[3.92764828]\n",
      " [3.15392311]]\n"
     ]
    }
   ],
   "source": [
    "X_b=np.c_[np.ones((100,1)),X]\n",
    "theta_best=np.linalg.inv(X_b.T.dot(X_b)).dot(X_b.T).dot(y)\n",
    "print(theta_best)"
   ]
  },
  {
   "cell_type": "code",
   "execution_count": 3,
   "metadata": {},
   "outputs": [
    {
     "name": "stdout",
     "output_type": "stream",
     "text": [
      "[[ 3.92764828]\n",
      " [10.2354945 ]]\n"
     ]
    }
   ],
   "source": [
    "X_new=np.array([[0],[2]])\n",
    "X_new_b=np.c_[np.ones((2,1)),X_new]\n",
    "y_predict=X_new_b.dot(theta_best)\n",
    "print(y_predict)"
   ]
  },
  {
   "cell_type": "code",
   "execution_count": 4,
   "metadata": {},
   "outputs": [
    {
     "data": {
      "text/plain": [
       "<matplotlib.figure.Figure at 0x1d437ebf6d8>"
      ]
     },
     "metadata": {},
     "output_type": "display_data"
    }
   ],
   "source": [
    "import matplotlib.pyplot as plt\n",
    "plt.plot(X_new,y_predict,'r-',label='Predictions')\n",
    "plt.plot(X,y,'k.')\n",
    "plt.legend(loc='best')\n",
    "plt.ylabel('y')\n",
    "plt.xlabel('x')\n",
    "plt.show()"
   ]
  },
  {
   "cell_type": "code",
   "execution_count": 5,
   "metadata": {},
   "outputs": [
    {
     "name": "stdout",
     "output_type": "stream",
     "text": [
      "[3.92764828] [[3.15392311]]\n",
      "[[ 3.92764828]\n",
      " [10.2354945 ]]\n"
     ]
    }
   ],
   "source": [
    "from sklearn.linear_model import LinearRegression\n",
    "lin_reg=LinearRegression()\n",
    "lin_reg.fit(X,y)\n",
    "print(lin_reg.intercept_,lin_reg.coef_)\n",
    "print(lin_reg.predict(X_new))"
   ]
  },
  {
   "cell_type": "code",
   "execution_count": 6,
   "metadata": {},
   "outputs": [
    {
     "name": "stdout",
     "output_type": "stream",
     "text": [
      "[[3.92764813]\n",
      " [3.15392323]]\n"
     ]
    }
   ],
   "source": [
    "eta=0.1\n",
    "n_iterations=500\n",
    "m=100\n",
    "\n",
    "theta=np.array([[0.5],[2]])\n",
    "for iteration in range(n_iterations):\n",
    "    gradient=2/m*X_b.T.dot(X_b.dot(theta)-y)\n",
    "#    print(theta.ravel(),gradient.ravel())\n",
    "    theta=theta-eta*gradient\n",
    "    \n",
    "print(theta)"
   ]
  },
  {
   "cell_type": "code",
   "execution_count": 7,
   "metadata": {},
   "outputs": [
    {
     "name": "stdout",
     "output_type": "stream",
     "text": [
      "[[ 2.71369602e+16]\n",
      " [-2.48092373e+16]]\n"
     ]
    }
   ],
   "source": [
    "n_epochs=50\n",
    "t0,t1=5,50\n",
    "m=50#len(X_b)\n",
    "minibatch_size = 20\n",
    "\n",
    "def learning_schedule(t):\n",
    "    return t0/(t+t1)\n",
    "\n",
    "theta=np.array([[0.5],[1]])\n",
    "\n",
    "for epoch in range(n_epochs):\n",
    "    for i in range(m):\n",
    "        random_index=np.random.randint(m)\n",
    "        xi=X_b[random_index:random_index+minibatch_size]\n",
    "        yi=y[random_index:random_index+minibatch_size]\n",
    "        gradients=2*xi.T.dot(xi.dot(theta)-yi)\n",
    " #       print(theta.ravel(),gradients.ravel())\n",
    "        eta=learning_schedule(epoch*m+i)\n",
    "        theta=theta-eta*gradients\n",
    "\n",
    "print(theta)"
   ]
  },
  {
   "cell_type": "code",
   "execution_count": 8,
   "metadata": {},
   "outputs": [
    {
     "data": {
      "text/plain": [
       "array([[1.        , 1.69078708],\n",
       "       [1.        , 1.07339177],\n",
       "       [1.        , 1.68840154]])"
      ]
     },
     "execution_count": 8,
     "metadata": {},
     "output_type": "execute_result"
    }
   ],
   "source": [
    "X_b[2:5]"
   ]
  },
  {
   "cell_type": "code",
   "execution_count": 9,
   "metadata": {},
   "outputs": [
    {
     "name": "stdout",
     "output_type": "stream",
     "text": [
      "[3.91265217] [3.15614844]\n"
     ]
    },
    {
     "name": "stderr",
     "output_type": "stream",
     "text": [
      "D:\\Anaconda3\\lib\\site-packages\\sklearn\\linear_model\\stochastic_gradient.py:117: DeprecationWarning: n_iter parameter is deprecated in 0.19 and will be removed in 0.21. Use max_iter and tol instead.\n",
      "  DeprecationWarning)\n"
     ]
    }
   ],
   "source": [
    "from sklearn.linear_model import SGDRegressor\n",
    "sgd_reg=SGDRegressor(n_iter=50,penalty=None,eta0=0.1)\n",
    "sgd_reg.fit(X,y.ravel())\n",
    "print(sgd_reg.intercept_,sgd_reg.coef_)"
   ]
  },
  {
   "cell_type": "markdown",
   "metadata": {},
   "source": [
    "## mini-batch gradient descent"
   ]
  },
  {
   "cell_type": "code",
   "execution_count": 10,
   "metadata": {},
   "outputs": [
    {
     "name": "stdout",
     "output_type": "stream",
     "text": [
      "[[3.97723981]\n",
      " [3.2203996 ]]\n"
     ]
    }
   ],
   "source": [
    "n_iterations=50\n",
    "minibatch_size=20\n",
    "m=len(X_b)\n",
    "np.random.seed(42)\n",
    "theta=np.random.randn(2,1)\n",
    "\n",
    "t0,t1=200,1000\n",
    "def learning_schedule(t):\n",
    "    return  t0/(t1+t)\n",
    "\n",
    "t=0\n",
    "for epoch in  range(n_iterations):\n",
    "    shuffled_indices=np.random.permutation(m)\n",
    "    X_b_shuffled=X_b[shuffled_indices]\n",
    "    y_shuffled=y[shuffled_indices]\n",
    "    for i in range(0,m,minibatch_size):\n",
    "        t+=1\n",
    "        xi=X_b_shuffled[i:i+minibatch_size]\n",
    "        yi=y_shuffled[i:i+minibatch_size]\n",
    "        gradients=2/minibatch_size*xi.T.dot(xi.dot(theta)-yi)\n",
    "        eta=learning_schedule(t)\n",
    "        theta=theta-eta*gradients\n",
    "        \n",
    "print(theta)"
   ]
  },
  {
   "cell_type": "markdown",
   "metadata": {},
   "source": [
    "## polynomial regression"
   ]
  },
  {
   "cell_type": "code",
   "execution_count": 11,
   "metadata": {},
   "outputs": [],
   "source": [
    "m=100\n",
    "np.random.seed(42)\n",
    "X=6*np.random.rand(m,1)-3\n",
    "y=0.5*X**2+X+2+np.random.randn(m,1)"
   ]
  },
  {
   "cell_type": "code",
   "execution_count": 12,
   "metadata": {},
   "outputs": [
    {
     "name": "stdout",
     "output_type": "stream",
     "text": [
      "[[0.56456263]\n",
      " [0.93366893]\n",
      " [1.78134581]]\n"
     ]
    }
   ],
   "source": [
    "theta=np.array(np.random.rand(3,1))\n",
    "X_b=np.c_[X*X,X,np.ones((m,1))]\n",
    "theta=np.linalg.inv(X_b.T.dot(X_b)).dot(X_b.T).dot(y)\n",
    "print(theta)"
   ]
  },
  {
   "cell_type": "code",
   "execution_count": 13,
   "metadata": {},
   "outputs": [
    {
     "name": "stdout",
     "output_type": "stream",
     "text": [
      "[1.78134581] [[0.93366893 0.56456263]]\n"
     ]
    }
   ],
   "source": [
    "from sklearn.preprocessing import PolynomialFeatures\n",
    "from sklearn.linear_model import LinearRegression\n",
    "poly_features=PolynomialFeatures(degree=2,include_bias=False)\n",
    "X_poly=poly_features.fit_transform(X)\n",
    "lin_reg=LinearRegression()\n",
    "lin_reg.fit(X_poly,y)\n",
    "print(lin_reg.intercept_,lin_reg.coef_)"
   ]
  },
  {
   "cell_type": "markdown",
   "metadata": {},
   "source": [
    "## Learning Curves "
   ]
  },
  {
   "cell_type": "code",
   "execution_count": 14,
   "metadata": {},
   "outputs": [
    {
     "data": {
      "image/png": "[encoded data removed]",
      "text/plain": [
       "<matplotlib.figure.Figure at 0x1d43901a320>"
      ]
     },
     "metadata": {},
     "output_type": "display_data"
    }
   ],
   "source": [
    "from sklearn.metrics import mean_squared_error\n",
    "from sklearn.model_selection import train_test_split\n",
    "#y_predict=lin_reg.predict(X_poly)\n",
    "#print(mean_squared_error(y_predict,y))\n",
    "#print(1/m*(y_predict-y).T.dot(y_predict-y))\n",
    "def plot_learning_curves(model,X,y):\n",
    "    X_train,X_val,y_train,y_val=train_test_split(X,y,test_size=0.2)\n",
    "    train_errors,val_errors=[],[]\n",
    "    for m in range(1,len(X_train)):\n",
    "        model.fit(X_train[:m],y_train[:m])\n",
    "        y_train_predict=model.predict(X_train[:m])\n",
    "        train_errors.append(mean_squared_error(y_train_predict,y_train[:m]))\n",
    "        y_val_predict=model.predict(X_val)\n",
    "        val_errors.append(mean_squared_error(y_val_predict,y_val))\n",
    "        \n",
    "    plt.plot(np.arange(1,len(X_train)),np.sqrt(train_errors),'r-+',label='Training set')\n",
    "    plt.plot(np.arange(1,len(X_train)),np.sqrt(val_errors),'b-',label='Validation set')\n",
    "    # the same as plt.plot(np.sqrt(...),'r-+')\n",
    "    plt.legend(loc='best')\n",
    "    plt.axis([0,80,0,3])\n",
    "lin_reg=LinearRegression()\n",
    "plot_learning_curves(lin_reg,X,y)"
   ]
  },
  {
   "cell_type": "markdown",
   "metadata": {},
   "source": [
    "## Regularized Linear Models"
   ]
  },
  {
   "cell_type": "code",
   "execution_count": 15,
   "metadata": {},
   "outputs": [
    {
     "data": {
      "image/png": "[encoded data removed]",
      "text/plain": [
       "<matplotlib.figure.Figure at 0x1d439f95e80>"
      ]
     },
     "metadata": {},
     "output_type": "display_data"
    }
   ],
   "source": [
    "from sklearn.linear_model import Ridge\n",
    "import matplotlib.pyplot as plt\n",
    "for i,c in ((0.1,'c-'),(10,'r--'),(100,'g:')):\n",
    "    ridge_reg=Ridge(alpha=i,solver='cholesky')\n",
    "    ridge_reg.fit(X,y)\n",
    "    plt.plot(X,ridge_reg.predict(X),c)\n",
    "plt.plot(X,y,'b.',alpha=0.5)\n",
    "plt.xlabel('$x_1$')\n",
    "plt.ylabel('$y$')\n",
    "plt.show()\n",
    "    "
   ]
  },
  {
   "cell_type": "markdown",
   "metadata": {},
   "source": [
    "## Logistic Regression"
   ]
  },
  {
   "cell_type": "code",
   "execution_count": 16,
   "metadata": {},
   "outputs": [
    {
     "data": {
      "image/png": "[encoded data removed]",
      "text/plain": [
       "<matplotlib.figure.Figure at 0x1d43b548e48>"
      ]
     },
     "metadata": {},
     "output_type": "display_data"
    }
   ],
   "source": [
    "t=np.linspace(-10,10,100)\n",
    "sig=1/(1+np.exp(-t))\n",
    "plt.figure(figsize=(9,3))\n",
    "#figsize : 2-tuple of floats(width, height) tuple in inches\n",
    "plt.plot(t,sig,'b-',label=r'$\\sigma (t)=\\frac{1}{1+e^{-t}}$')\n",
    "plt.plot([-10,10],[0,0],'k-')\n",
    "plt.plot([0,0],[-0.1,1.1],'k-')\n",
    "plt.plot([-10,10],[0.5,0.5],'k:')\n",
    "plt.plot([-10,10],[1,1],'k:')\n",
    "plt.legend(loc='upper left',fontsize=20)\n",
    "plt.xlabel('t')\n",
    "plt.axis([-10,10,-0.1,1.1])\n",
    "plt.show()"
   ]
  },
  {
   "cell_type": "code",
   "execution_count": 17,
   "metadata": {},
   "outputs": [],
   "source": [
    "from sklearn import datasets\n",
    "iris=datasets.load_iris()"
   ]
  },
  {
   "cell_type": "code",
   "execution_count": 18,
   "metadata": {},
   "outputs": [],
   "source": [
    "X=iris['data'][:,3:]\n",
    "y=(iris['target']==2).astype(np.int)"
   ]
  },
  {
   "cell_type": "code",
   "execution_count": 19,
   "metadata": {},
   "outputs": [
    {
     "data": {
      "text/plain": [
       "LogisticRegression(C=1.0, class_weight=None, dual=False, fit_intercept=True,\n",
       "          intercept_scaling=1, max_iter=100, multi_class='ovr', n_jobs=1,\n",
       "          penalty='l2', random_state=None, solver='liblinear', tol=0.0001,\n",
       "          verbose=0, warm_start=False)"
      ]
     },
     "execution_count": 19,
     "metadata": {},
     "output_type": "execute_result"
    }
   ],
   "source": [
    "from sklearn.linear_model import LogisticRegression\n",
    "#from ... import ...导入指定的模块内的指定函数方法\n",
    "log_reg=LogisticRegression()\n",
    "log_reg.fit(X,y)"
   ]
  },
  {
   "cell_type": "code",
   "execution_count": 20,
   "metadata": {},
   "outputs": [
    {
     "data": {
      "image/png": "[encoded data removed]",
      "text/plain": [
       "<matplotlib.figure.Figure at 0x1d43b6ec5f8>"
      ]
     },
     "metadata": {},
     "output_type": "display_data"
    }
   ],
   "source": [
    "X_new=np.linspace(0,3,1000).reshape(-1,1)\n",
    "y_proba=log_reg.predict_proba(X_new)\n",
    "plt.plot(X_new,y_proba[:,1],'g-',label='Iris')\n",
    "plt.plot(X_new,y_proba[:,0],'b--',label='Not Iris')\n",
    "plt.legend(loc='center left')\n",
    "plt.show()"
   ]
  },
  {
   "cell_type": "code",
   "execution_count": 41,
   "metadata": {
    "scrolled": true
   },
   "outputs": [
    {
     "name": "stdout",
     "output_type": "stream",
     "text": [
      "[0.66666667 1.         0.66666667]\n",
      "[1. 1. 1. 1. 1. 1. 1. 1. 1. 1. 1. 1. 1. 1. 1. 1. 1. 1. 1. 1. 1. 1. 1. 1.\n",
      " 1. 1. 1. 1. 1. 1. 1. 1. 1. 1. 1. 1. 1. 1. 1. 1. 2. 2. 2. 2. 2. 2. 2. 2.\n",
      " 2. 2. 2. 2. 2. 2. 2. 2. 2. 2. 2. 2. 2. 2. 2. 2. 2. 2. 2. 2. 2. 2. 2. 2.\n",
      " 2. 2. 2. 2. 2. 2. 2. 2. 3. 3. 3. 3. 3. 3. 3. 3. 3. 3. 3. 3. 3. 3. 3. 3.\n",
      " 3. 3. 3. 3. 3. 3. 3. 3. 3. 3. 3. 3. 3. 3. 3. 3. 3. 3. 3. 3. 3. 3. 3. 3.]\n",
      "[1. 1. 1. 1. 1. 1. 1. 1. 1. 1. 1. 1. 1. 1. 1. 1. 1. 1. 1. 1. 1. 1. 1. 1.\n",
      " 1. 1. 1. 1. 1. 1. 1. 1. 1. 1. 1. 1. 1. 1. 1. 1. 2. 2. 2. 2. 2. 2. 2. 2.\n",
      " 2. 2. 2. 2. 2. 2. 2. 2. 2. 2. 2. 2. 2. 2. 2. 2. 2. 2. 2. 2. 2. 2. 2. 2.\n",
      " 2. 2. 2. 2. 2. 2. 2. 2. 3. 3. 3. 3. 3. 3. 3. 3. 3. 3. 3. 3. 3. 3. 3. 3.\n",
      " 3. 3. 3. 3. 3. 3. 3. 3. 3. 3. 3. 3. 3. 3. 3. 3. 3. 3. 3. 3. 3. 3. 3. 3.]\n",
      "end\n"
     ]
    }
   ],
   "source": [
    "#test\n",
    "from sklearn.model_selection import cross_val_score\n",
    "x_t=np.arange(120).reshape(-1,1)\n",
    "y_t=np.ones(120)\n",
    "y_t[40:80]=2\n",
    "y_t[80:]=3\n",
    "log_t=LogisticRegression(multi_class='multinomial',solver='lbfgs',C=10)\n",
    "log_t.fit(x_t,y_t)\n",
    "pre_t=log_t.predict(x_t)\n",
    "print(cross_val_score(log_t,x_t,y_t,scoring='accuracy'))\n",
    "#why not [1 1 1]\n",
    "#cross-validation only uses part of training set to train a model\n",
    "#the bigger the gaps between each two adjacent classes, the higher the scores\n",
    "print(pre_t)\n",
    "print(y_t)\n",
    "for i in range(len(x_t)):\n",
    "    if(pre_t[i]!=y_t[i]):\n",
    "        print(i)\n",
    "print(\"end\")"
   ]
  },
  {
   "cell_type": "code",
   "execution_count": 36,
   "metadata": {
    "scrolled": true
   },
   "outputs": [
    {
     "name": "stdout",
     "output_type": "stream",
     "text": [
      "[ 59  56   7   3  23  18  38  99  15  64  89  28  74  39  57  17  86  90\n",
      "  44  25  17  13  84  25  68  10  67  18 100  86  34   8  40  83  42  41\n",
      "   6  52  26  64  98  59  56  59  70  33  53  22  21  70  70   4  94  75\n",
      "  62  62  94  95  24  55   9   3  31  40  36  24  95   6  66  84  92  75\n",
      "   4  79   6  94  51  62  57  66  79  75   8  26  51  45  44   5  70  26\n",
      "  68  19  84  97  20  12  47   1  90  14]\n",
      "[-1  0 -2 -2 -1 -3 -1 -2 -1 -1  0 -1 -1 -1 -1  0 -2 -2 -1 -1 -1 -1 -1 -2\n",
      " -2 -3  0 -1  0  0 -1  0 -1 -1  0 -1  0 -1 -1 -2 -1 -1  0 -2 -1  0 -1  0\n",
      "  0  0 -2 -1 -1  0 -1 -2 -2  0 -3  0  0 -3  0 -2  0 -2 -1 -2  0 -4  0  0\n",
      "  0 -1 -3  0  0  0 -2  0  0  0 -1 -3  0 -2  0  0 -1 -2  0 -1  0 -3 -2  0\n",
      " -1 -1 -1 -1]\n",
      "Correct answer!\n"
     ]
    }
   ],
   "source": [
    "#https://blog.csdn.net/eminemdsp/article/details/64124433\n",
    "import numpy as np\n",
    "import pandas as pd\n",
    "n=100\n",
    "arr=np.random.randint(1,n+1,n)\n",
    "print(arr)\n",
    "count_ans=pd.value_counts(arr).sort_index()\n",
    "\n",
    "for i in range(n):\n",
    "    if arr[i]<=0:\n",
    "        continue\n",
    "    j=arr[i]-1\n",
    "    arr[i]=0\n",
    "    while j>=0:\n",
    "        k=arr[j]-1\n",
    "        if arr[j]>=0:\n",
    "            arr[j]=-1\n",
    "        else:\n",
    "            arr[j]=arr[j]-1\n",
    "        j=k\n",
    "print(arr)\n",
    "#test\n",
    "ok=True\n",
    "for i in range(n):\n",
    "    if arr[i]<0 and count_ans[i+1]!=-arr[i]:\n",
    "        print('Wrong answer!')\n",
    "        ok=False\n",
    "        break\n",
    "if ok:\n",
    "    print('Correct answer!')"
   ]
  },
  {
   "cell_type": "code",
   "execution_count": 67,
   "metadata": {},
   "outputs": [
    {
     "data": {
      "image/png": "[encoded data removed]",
      "text/plain": [
       "<matplotlib.figure.Figure at 0x1d4391aef28>"
      ]
     },
     "metadata": {},
     "output_type": "display_data"
    }
   ],
   "source": [
    "X = iris[\"data\"][:, (2, 3)]  # petal length, petal width\n",
    "#y = (iris[\"target\"] == 2).astype(np.int)\n",
    "y=iris['target']\n",
    "plt.figure(figsize=(10, 4))\n",
    "plt.plot(X[y==0,0],X[y==0,1],'yo',label='Setosa')\n",
    "plt.plot(X[y==1,0],X[y==1,1],'bs',label='Versicolor')\n",
    "plt.plot(X[y==2,0],X[y==2,1],'g^',label='Virginica')\n",
    "plt.xlabel('length')\n",
    "plt.ylabel('width')\n",
    "plt.legend(loc='best')\n",
    "#plt.axis([2.9, 7, 0.8, 2.7])\n",
    "plt.show()"
   ]
  },
  {
   "cell_type": "code",
   "execution_count": null,
   "metadata": {},
   "outputs": [],
   "source": []
  }
 ],
 "metadata": {
  "kernelspec": {
   "display_name": "Python 3",
   "language": "python",
   "name": "python3"
  },
  "language_info": {
   "codemirror_mode": {
    "name": "ipython",
    "version": 3
   },
   "file_extension": ".py",
   "mimetype": "text/x-python",
   "name": "python",
   "nbconvert_exporter": "python",
   "pygments_lexer": "ipython3",
   "version": "3.6.4"
  }
 },
 "nbformat": 4,
 "nbformat_minor": 2
}
